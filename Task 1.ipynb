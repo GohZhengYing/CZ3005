{
 "cells": [
  {
   "cell_type": "code",
   "execution_count": 1,
   "id": "6bae104d",
   "metadata": {},
   "outputs": [],
   "source": [
    "import json\n",
    "import queue\n",
    "from queue import PriorityQueue"
   ]
  },
  {
   "cell_type": "code",
   "execution_count": 2,
   "id": "3b704d2f",
   "metadata": {},
   "outputs": [],
   "source": [
    "with open(\"Coord.json\", \"r\") as h:\n",
    "        coord = json.load(h)\n",
    "        h.close()\n",
    "\n",
    "with open(\"Cost.json\", \"r\") as i:\n",
    "        cost = json.load(i)\n",
    "        i.close()\n",
    "\n",
    "with open(\"Dist(2).json\", \"r\") as j:\n",
    "        dist = json.load(j)\n",
    "        j.close()\n",
    "\n",
    "with open(\"G(2).json\", \"r\") as k:\n",
    "        g = json.load(k)\n",
    "        k.close()"
   ]
  },
  {
   "cell_type": "code",
   "execution_count": null,
   "id": "7550f044",
   "metadata": {},
   "outputs": [],
   "source": []
  },
  {
   "cell_type": "code",
   "execution_count": 3,
   "id": "3bb1bd06",
   "metadata": {},
   "outputs": [],
   "source": [
    "class PathData:\n",
    "\n",
    "\n",
    "    def __init__(self, path=\"No path found\", dist=-1, energy=-1):\n",
    "\n",
    "        self.path = path\n",
    "        self.dist = dist\n",
    "        self.energy = energy"
   ]
  },
  {
   "cell_type": "code",
   "execution_count": 4,
   "id": "29db8ec2",
   "metadata": {},
   "outputs": [],
   "source": [
    "def findminpath(source: str, dest: str, g: dict, dist: dict) -> PathData:\n",
    "    queue = PriorityQueue()\n",
    "    visited = set()\n",
    "    queue.put((0, [source]))\n",
    "    \n",
    "    while queue.not_empty:\n",
    "        \n",
    "        pair = queue.get()\n",
    "        \n",
    "        current_path = pair[1]\n",
    "        \n",
    "        current = current_path[-1]\n",
    "        \n",
    "        distance = 0\n",
    "        \n",
    "        if current not in visited:\n",
    "            visited.add(current)\n",
    "            \n",
    "            if current == dest:\n",
    "                pathinformation = PathData()\n",
    "                pathinformation.path = \"->\".join(current_path)\n",
    "                for i in range(len(current_path) - 1):\n",
    "                    distance += dist[f\"{current_path[i]},{current_path[i+1]}\"]\n",
    "                pathinformation.dist = distance\n",
    "                return pathinformation\n",
    "            \n",
    "            for neighbors in g[current]:\n",
    "                new_dist = dist[f\"{current},{neighbors}\"]\n",
    "                score = new_dist + pair[0]\n",
    "                \n",
    "                new_path = list(pair[1])\n",
    "                new_path.append(neighbors)\n",
    "                \n",
    "                queue.put((score, new_path))\n",
    "                \n",
    "    return PathData()"
   ]
  },
  {
   "cell_type": "code",
   "execution_count": 5,
   "id": "c1d05bfb",
   "metadata": {},
   "outputs": [],
   "source": [
    "def print_path(label: str, pathinformation: PathData) -> None:\n",
    "    print(label)\n",
    "    print(f\"Shortest path: {pathinformation.path}\")\n",
    "    print(f\"Shortest distance: {pathinformation.dist}\")\n",
    "    print(f\"Total energy cost: {pathinformation.energy}\")"
   ]
  },
  {
   "cell_type": "code",
   "execution_count": 6,
   "id": "d674ea64",
   "metadata": {},
   "outputs": [
    {
     "name": "stdout",
     "output_type": "stream",
     "text": [
      "task 1\n",
      "Shortest path: 1->1363->1358->1357->1356->1276->1273->1277->1269->1267->1268->1284->1283->1282->1255->1253->1260->1259->1249->1246->963->964->962->1002->952->1000->998->994->995->996->987->986->979->980->969->977->989->990->991->2369->2366->2340->2338->2339->2333->2334->2329->2029->2027->2019->2022->2000->1996->1997->1993->1992->1989->1984->2001->1900->1875->1874->1965->1963->1964->1923->1944->1945->1938->1937->1939->1935->1931->1934->1673->1675->1674->1837->1671->1828->1825->1817->1815->1634->1814->1813->1632->1631->1742->1741->1740->1739->1591->1689->1585->1584->1688->1579->1679->1677->104->5680->5418->5431->5425->5424->5422->5413->5412->5411->66->5392->5391->5388->5291->5278->5289->5290->5283->5284->5280->50\n",
      "Shortest distance: 148648.63722140007\n",
      "Total energy cost: -1\n"
     ]
    }
   ],
   "source": [
    "path = findminpath('1', '50', g, dist)\n",
    "print_path(\"task 1\", path)"
   ]
  },
  {
   "cell_type": "code",
   "execution_count": null,
   "id": "61f47556",
   "metadata": {},
   "outputs": [],
   "source": []
  }
 ],
 "metadata": {
  "kernelspec": {
   "display_name": "Python 3 (ipykernel)",
   "language": "python",
   "name": "python3"
  },
  "language_info": {
   "codemirror_mode": {
    "name": "ipython",
    "version": 3
   },
   "file_extension": ".py",
   "mimetype": "text/x-python",
   "name": "python",
   "nbconvert_exporter": "python",
   "pygments_lexer": "ipython3",
   "version": "3.9.12"
  }
 },
 "nbformat": 4,
 "nbformat_minor": 5
}
